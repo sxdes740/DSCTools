{
 "cells": [
  {
   "cell_type": "markdown",
   "id": "4429d9e8-777b-4d87-b7cf-25389d5f00ae",
   "metadata": {},
   "source": [
    "# Data Science Tools and Ecosystem"
   ]
  },
  {
   "cell_type": "markdown",
   "id": "09603618-e011-4c93-a341-788d9d88225b",
   "metadata": {},
   "source": [
    "In this notebook, Data Science Tools and Ecosystem are summarized."
   ]
  },
  {
   "cell_type": "markdown",
   "id": "a3021cf9-e096-4c8f-8c0a-0a45c87eef00",
   "metadata": {},
   "source": [
    "**Objectives:**\n",
    "Subitem 2.2\r\n",
    "\n"
   ]
  },
  {
   "cell_type": "markdown",
   "id": "84b6dd97-c02a-4591-b418-3f5a616df15f",
   "metadata": {},
   "source": [
    "**Objectives:**\n",
    "* Popular languages that Data Scientists\n",
    "* Commonly used libraries used by Data Scientists\n",
    "* Examples of evaluating arithmetic expressions "
   ]
  },
  {
   "cell_type": "markdown",
   "id": "9c559c3a-cab7-4957-a33c-cd9831888e71",
   "metadata": {},
   "source": [
    "Some of the popular languages that Data Scientists use are:\n",
    "1. Phyton\n",
    "2. SQL\n",
    "3. R\n",
    "4. Scala\n",
    "5. Julia"
   ]
  },
  {
   "cell_type": "markdown",
   "id": "c9a1761a-5fb8-488a-b92b-e94f9323b14d",
   "metadata": {},
   "source": [
    "Some of the commonly used libraries used by Data Scientists include:\n",
    "1. Pandas\n",
    "2. NumPy\n",
    "3. Matplotlib\n",
    "4. Scikit-learn\n",
    "5. TensorFlow\n",
    "6. Keras\n",
    "7. PyTorch\n",
    "8. Seaborn"
   ]
  },
  {
   "cell_type": "markdown",
   "id": "dbe94e75-37bc-4ceb-861d-af025284259a",
   "metadata": {},
   "source": [
    "| Data Science Tools         |\n",
    "|----------------------------|\n",
    "| Jupyter Notebook           |\n",
    "| RStudio                    |\n",
    "| Apache Zeppelin            |\n"
   ]
  },
  {
   "cell_type": "markdown",
   "id": "13211b20-8e5e-4619-8ade-e1d9bd0e0930",
   "metadata": {},
   "source": [
    "### Below are a few examples of evaluating arithmetic expressions in Python"
   ]
  },
  {
   "cell_type": "code",
   "execution_count": 10,
   "id": "e677cfed-9c7e-4d76-8045-874269d570f9",
   "metadata": {},
   "outputs": [
    {
     "data": {
      "text/plain": [
       "17"
      ]
     },
     "execution_count": 10,
     "metadata": {},
     "output_type": "execute_result"
    }
   ],
   "source": [
    "# This a simple arithmetic expression to mutiply then add integers.\n",
    "(3*4)+5"
   ]
  },
  {
   "cell_type": "code",
   "execution_count": 12,
   "id": "e31b2743-27d5-4266-83e3-90d0e235727d",
   "metadata": {},
   "outputs": [
    {
     "data": {
      "text/plain": [
       "3.3333333333333335"
      ]
     },
     "execution_count": 12,
     "metadata": {},
     "output_type": "execute_result"
    }
   ],
   "source": [
    "# This will convert 200 minutes to hours by diving by 60\n",
    "200/60"
   ]
  },
  {
   "cell_type": "markdown",
   "id": "d0f68b8d-d131-4822-9e3c-0244fbe0ed73",
   "metadata": {},
   "source": [
    "## Author\n",
    "Sandra De Fex "
   ]
  },
  {
   "cell_type": "code",
   "execution_count": null,
   "id": "ef2a7c54-4a4f-49ff-8d7a-cd95a89f2be5",
   "metadata": {},
   "outputs": [],
   "source": []
  }
 ],
 "metadata": {
  "kernelspec": {
   "display_name": "Python 3 (ipykernel)",
   "language": "python",
   "name": "python3"
  },
  "language_info": {
   "codemirror_mode": {
    "name": "ipython",
    "version": 3
   },
   "file_extension": ".py",
   "mimetype": "text/x-python",
   "name": "python",
   "nbconvert_exporter": "python",
   "pygments_lexer": "ipython3",
   "version": "3.11.7"
  }
 },
 "nbformat": 4,
 "nbformat_minor": 5
}
